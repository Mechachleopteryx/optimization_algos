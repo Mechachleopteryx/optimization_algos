{
 "cells": [
  {
   "cell_type": "code",
   "execution_count": 1,
   "metadata": {
    "collapsed": false
   },
   "outputs": [],
   "source": [
    "import numpy as np\n",
    "import matplotlib.pyplot as plt\n",
    "\n",
    "# jupyter notebook settings\n",
    "%load_ext autoreload\n",
    "%autoreload 2\n",
    "%matplotlib inline"
   ]
  },
  {
   "cell_type": "code",
   "execution_count": 2,
   "metadata": {
    "collapsed": false
   },
   "outputs": [],
   "source": [
    "from sklearn import linear_model # ridge regression\n",
    "from scipy.special import expit"
   ]
  },
  {
   "cell_type": "markdown",
   "metadata": {},
   "source": [
    "# Models"
   ]
  },
  {
   "cell_type": "code",
   "execution_count": 26,
   "metadata": {
    "collapsed": false
   },
   "outputs": [],
   "source": [
    "class LeastSquares(object):\n",
    "    \"\"\"\n",
    "    Least squares\n",
    "    \n",
    "    min_x||Ax - b||_2^2\n",
    "    \n",
    "    A in R^(n x d)\n",
    "    b in R^n\n",
    "    x in R^d\n",
    "    \"\"\"\n",
    "    \n",
    "    def __init__(self, A, b):\n",
    "        \n",
    "        # data\n",
    "        self.A = A\n",
    "        self.b = b\n",
    "        \n",
    "        self.d = A.shape[1]\n",
    "        self.n = A.shape[0]\n",
    "        \n",
    "        # lipshitz constant\n",
    "        self.L_F = np.linalg.norm(A)**2 #* (1.0/self.n)\n",
    "        self.mu_F = 0\n",
    "        \n",
    "    def F(self, x):\n",
    "        return .5 * sum((np.dot(self.A, x) - self.b)**2)\n",
    "    \n",
    "    def grad_F(self, x):\n",
    "        return np.dot(self.A.T, np.dot(self.A, x) - b) \n",
    "    \n",
    "    def f(self, x, i):\n",
    "        return self.n*.5*(np.dot(self.A[i, :], x) - self.b[i])**2\n",
    "    \n",
    "    def grad_f(self, x, i):\n",
    "        return self.n*(np.dot(self.A[i, :], x) - self.b[i]) * self.A[i, :]"
   ]
  },
  {
   "cell_type": "code",
   "execution_count": 86,
   "metadata": {
    "collapsed": false
   },
   "outputs": [],
   "source": [
    "\n",
    "class LeastSquaresL2(object):\n",
    "    \"\"\"\n",
    "    L2 regularized Least squares\n",
    "    \n",
    "    min_x ||Ax - b||_2^2 + alpha ||x||_2^2\n",
    "    \n",
    "    A in R^(n x d)\n",
    "    b in R^n\n",
    "    alpha >0\n",
    "    x in R^d\n",
    "    \"\"\"\n",
    "    \n",
    "    def __init__(self, A, b, alpha):\n",
    "        \n",
    "        # data\n",
    "        self.A = A\n",
    "        self.b = b\n",
    "        self.alpha = alpha\n",
    "        \n",
    "        self.d = A.shape[1]\n",
    "        self.n = A.shape[0]\n",
    "        \n",
    "        # lipshitz constant\n",
    "        self.L_F = np.linalg.norm(A)**2 + alpha # * (1.0/self.n) \n",
    "        self.mu_F = alpha\n",
    "        \n",
    "    def F(self, x):\n",
    "        return .5*sum((np.dot(self.A, x) - self.b)**2) + self.alpha*np.linalg.norm(x)**2\n",
    "    \n",
    "    def grad_F(self, x):\n",
    "        return np.dot(self.A.T, np.dot(self.A, x) - b) + self.alpha*x\n",
    "    \n",
    "    def f(self, x, i):\n",
    "        return self.n*.5*(np.dot(self.A[i, :], x) - self.b[i])**2 + self.alpha*np.linalg.norm(x)**2\n",
    "    \n",
    "    def grad_f(self, x, i):\n",
    "        return self.n*(np.dot(self.A[i, :], x) - self.b[i])*self.A[i, :] + self.alpha*x"
   ]
  },
  {
   "cell_type": "code",
   "execution_count": 368,
   "metadata": {
    "collapsed": true
   },
   "outputs": [],
   "source": [
    "class LogisticRegression(object):\n",
    "    \"\"\"\n",
    "    Logistic regression\n",
    "    \n",
    "    min_x sum_i log(1 + exp(b_i *a_i^Tx))\n",
    "    \n",
    "    A in R^(n x d) assumes the last column is all ones for the intercet\n",
    "    b =+/-1 in R^n\n",
    "    x in R^d\n",
    "    \n",
    "    \"\"\"\n",
    "    \n",
    "    def __init__(self, A, b):\n",
    "        \n",
    "        # data\n",
    "        self.A = A\n",
    "        self.b = b\n",
    "        self.alpha = alpha\n",
    "        \n",
    "        self.d = A.shape[1]\n",
    "        self.n = A.shape[0]\n",
    "        \n",
    "        # lipshitz constant\n",
    "        self.L_F = .25 * np.linalg.norm(np.dot(A.T, A))\n",
    "        \n",
    "    def F(self, x):\n",
    "        # return np.sum(np.log(1 + np.exp(np.multiply(self.b, np.dot(self.A, x)))))\n",
    "        return -1*logistic_loss(self.A, self.b, x)\n",
    "    \n",
    "    def grad_F(self, x):\n",
    "        return -1*logistic_loss_grad(self.A, self.b, x)\n",
    "    \n",
    "    def f(self, x, i):\n",
    "        return -1*self.n*logistic_loss(self.A[i, :], self.b[i], x)\n",
    "    \n",
    "    def grad_f(self, x, i):\n",
    "        return -1*self.n*logistic_loss_grad(self.A[i, :], self.b[i], x)\n",
    "    \n",
    "    \n",
    "def logistic_loss(X, y, beta):\n",
    "    \"\"\" sum_i log(1 + exp(y_i *x_i^T beta))\"\"\"\n",
    "    return np.sum(np.log(1 + np.exp(np.multiply(y, np.dot(X, beta)))))\n",
    "    \n",
    "def logistic_loss_grad(X, y, beta):\n",
    "#     E = expit(-1*np.multiply(y, np.dot(X, beta)))\n",
    "#     Eb = np.multiply(E, y).T\n",
    "#     return np.sum(np.dot(np.diag(Eb), X), axis=0)\n",
    "    if not hasattr(y, \"__len__\"):\n",
    "        y01 = int(0 < y)\n",
    "        p = expit(np.dot(X, beta))\n",
    "        grad = X * (y01 - p)\n",
    "    else:    \n",
    "        p = expit(np.dot(X, beta))    \n",
    "        y01 = [1 if label > 0 else 0 for label in y]\n",
    "        grad = np.dot(X.T, y01 - p)\n",
    "\n",
    "    return grad\n",
    "\n"
   ]
  },
  {
   "cell_type": "markdown",
   "metadata": {},
   "source": [
    "# test data"
   ]
  },
  {
   "cell_type": "code",
   "execution_count": 78,
   "metadata": {
    "collapsed": false
   },
   "outputs": [],
   "source": [
    "np.random.seed(3312)\n",
    "\n",
    "# sample data for LS problems\n",
    "n = 100\n",
    "d = 10\n",
    "\n",
    "A = np.random.normal(loc=0, scale=1, size=(n, d))\n",
    "b = np.random.normal(loc=0, scale=1, size=n)"
   ]
  },
  {
   "cell_type": "code",
   "execution_count": 79,
   "metadata": {
    "collapsed": true
   },
   "outputs": [],
   "source": [
    "# Least squares\n",
    "model = LeastSquares(A, b)\n",
    "\n",
    "# analytic solution\n",
    "x_solution = np.dot(np.dot(np.linalg.inv(np.dot(A.T, A)), A.T),b)"
   ]
  },
  {
   "cell_type": "code",
   "execution_count": 80,
   "metadata": {
    "collapsed": true
   },
   "outputs": [],
   "source": [
    "# Least squares L2 regularized\n",
    "alpha = 1\n",
    "\n",
    "model = LeastSquaresL2(A, b, alpha)\n",
    "\n",
    "# check solution using sklean\n",
    "sk_ridge_model = linear_model.Ridge(alpha = alpha, fit_intercept=False)\n",
    "sk_ridge_model.fit(X=A, y=b)\n",
    "x_solution = sk_ridge_model.coef_"
   ]
  },
  {
   "cell_type": "code",
   "execution_count": 377,
   "metadata": {
    "collapsed": false
   },
   "outputs": [],
   "source": [
    "np.random.seed(3312)\n",
    "\n",
    "# sample data for log reg problems\n",
    "n = 100\n",
    "d = 10\n",
    "\n",
    "# X data with intercept\n",
    "Ax = np.random.normal(loc=0, scale=1, size=(n, d-1))\n",
    "A = np.array(np.bmat([Ax, np.ones((n,1))])) # add intercept to design matrix\n",
    "\n",
    "# true beta\n",
    "beta_platon = np.random.normal(loc=0, scale=1, size=d )\n",
    "\n",
    "# sample data\n",
    "prob = expit(np.dot(A, beta_platon))\n",
    "unif = np.random.sample(n)\n",
    "b = [1 if unif[i] < prob[i] else -1 for i in range(n)] # class labels"
   ]
  },
  {
   "cell_type": "code",
   "execution_count": 378,
   "metadata": {
    "collapsed": true
   },
   "outputs": [],
   "source": [
    "model = LogisticRegression(A, b)"
   ]
  },
  {
   "cell_type": "markdown",
   "metadata": {},
   "source": [
    "# model test functions"
   ]
  },
  {
   "cell_type": "code",
   "execution_count": 369,
   "metadata": {
    "collapsed": true
   },
   "outputs": [],
   "source": [
    "x_test = np.random.normal(loc=0, scale=10, size=d)"
   ]
  },
  {
   "cell_type": "code",
   "execution_count": 370,
   "metadata": {
    "collapsed": false
   },
   "outputs": [
    {
     "data": {
      "text/plain": [
       "1.1368683772161603e-13"
      ]
     },
     "execution_count": 370,
     "metadata": {},
     "output_type": "execute_result"
    }
   ],
   "source": [
    "# make sure F and f line up (norm of diference)\n",
    "np.linalg.norm(np.mean([model.f(x_test, i) for i in range(n)]) - model.F(x_test))"
   ]
  },
  {
   "cell_type": "code",
   "execution_count": 371,
   "metadata": {
    "collapsed": false
   },
   "outputs": [
    {
     "data": {
      "text/plain": [
       "4.1942339212815207e-14"
      ]
     },
     "execution_count": 371,
     "metadata": {},
     "output_type": "execute_result"
    }
   ],
   "source": [
    "# make sure grad_F and grad_f line up (norm of diference)\n",
    "np.linalg.norm((1.0/n)*sum([model.grad_f(x_test, i) for i in range(n)]) - model.grad_F(x_test))"
   ]
  },
  {
   "cell_type": "code",
   "execution_count": 372,
   "metadata": {
    "collapsed": false
   },
   "outputs": [
    {
     "data": {
      "text/plain": [
       "36.226461615124244"
      ]
     },
     "execution_count": 372,
     "metadata": {},
     "output_type": "execute_result"
    }
   ],
   "source": [
    "# check gradient at 0\n",
    "np.linalg.norm(model.grad_F(x_solution))"
   ]
  },
  {
   "cell_type": "markdown",
   "metadata": {},
   "source": [
    "# optimization algos"
   ]
  },
  {
   "cell_type": "code",
   "execution_count": 357,
   "metadata": {
    "collapsed": false
   },
   "outputs": [],
   "source": [
    "def gradient_descent(model, eta, max_iterations=1e4, epsilon=1e-5, x_start=None):\n",
    "    \"\"\"\n",
    "    Gradient descent\n",
    "    \"\"\"\n",
    "\n",
    "    # data from model\n",
    "    grad_F = model.grad_F\n",
    "    # F = model.F\n",
    "    \n",
    "    # initialization\n",
    "    if x_start:\n",
    "        x_current = x_start\n",
    "    else:\n",
    "        x_current = np.random.normal(loc=0, scale=1, size=d)\n",
    "\n",
    "\n",
    "    # history\n",
    "    x_history = []\n",
    "\n",
    "    for k in range(int(max_iterations)):\n",
    "        # history\n",
    "        x_history.append(x_current)\n",
    "        \n",
    "        # gradient update\n",
    "        x_next = x_current - eta * grad_F(x_current)\n",
    "\n",
    "        # relative error stoping condition\n",
    "        if np.linalg.norm(x_next - x_current) <= epsilon*np.linalg.norm(x_current):\n",
    "            break\n",
    "            # if np.linalg.norm(x_next) <= epsilon:\n",
    "\n",
    "        x_current = x_next\n",
    "\n",
    "\n",
    "    print 'GD finished after ' + str(k) + ' iterations'\n",
    "    \n",
    "    return {'solution': x_current,\n",
    "            'x_history': x_history}"
   ]
  },
  {
   "cell_type": "code",
   "execution_count": 34,
   "metadata": {
    "collapsed": true
   },
   "outputs": [],
   "source": [
    "def accelerated_gradient_descent(model, eta, max_iterations=1e4, epsilon=1e-5, x_start=None):\n",
    "    \"\"\"\n",
    "    Nesterov's accelerated gradient descent\n",
    "    \"\"\"\n",
    "\n",
    "    # data from model\n",
    "    grad_F = model.grad_F\n",
    "    # F = model.F\n",
    "    \n",
    "    # initialization\n",
    "    if x_start:\n",
    "        x_current = x_start\n",
    "    else:\n",
    "        x_current = np.random.normal(loc=0, scale=1, size=d)\n",
    "\n",
    "    y_current = x_current\n",
    "    t_current = 1.0\n",
    "\n",
    "    # history\n",
    "    x_history = []\n",
    "\n",
    "    for k in range(int(max_iterations)):\n",
    "        # history\n",
    "        x_history.append(x_current)\n",
    "        \n",
    "        # gradient update\n",
    "        t_next = .5*(1 + np.sqrt(1 + 4*t_current**2))\n",
    "        x_next = y_current - eta * grad_F(y_current)\n",
    "        y_next = x_next +(t_current - 1.0)/(t_next)*(x_next - x_current)\n",
    "\n",
    "        # relative error stoping condition\n",
    "        if np.linalg.norm(x_next - x_current) <= epsilon*np.linalg.norm(x_current):\n",
    "            break\n",
    "            # if np.linalg.norm(x_next) <= epsilon:\n",
    "\n",
    "        # restarting strategies\n",
    "        if np.dot(y_current - x_next, x_next - x_current) > 0:\n",
    "            y_next = x_next\n",
    "            t_next = 1\n",
    "            # if k %% k_restart == 0: \n",
    "        \n",
    "        x_current = x_next\n",
    "        y_current = y_next\n",
    "        t_current = t_next\n",
    "\n",
    "\n",
    "    print 'accelerated GD finished after ' + str(k) + ' iterations'\n",
    "    \n",
    "    return {'solution': x_current,\n",
    "            'x_history': x_history}"
   ]
  },
  {
   "cell_type": "code",
   "execution_count": 35,
   "metadata": {
    "collapsed": true
   },
   "outputs": [],
   "source": [
    "def stochastic_gradient_descent(model, eta, batch_size=1, max_iterations=1e4, epsilon=1e-5, x_start=None, seed=None):\n",
    "    \"\"\"\n",
    "    Stochastic gradient with linearly decaying learning rate\n",
    "    \"\"\"\n",
    "    if seed:\n",
    "        np.random.seed(seed)\n",
    "\n",
    "    \n",
    "    # data from model\n",
    "    n = model.n # number of data points\n",
    "\n",
    "    grad_F = model.grad_F\n",
    "    F = model.F\n",
    "    \n",
    "    # initialization\n",
    "    if x_start:\n",
    "        x_current = x_start\n",
    "    else:\n",
    "        x_current = np.random.normal(loc=0, scale=1, size=d)\n",
    "\n",
    "    # history\n",
    "    x_history = []\n",
    "\n",
    "    for k in range(int(max_iterations)):\n",
    "\n",
    "        x_history.append(x_current)\n",
    "        \n",
    "        # compute gradient estimate\n",
    "        index = np.random.choice(n, batch_size)\n",
    "        batch_grad =  np.mean([model.grad_f(x_current, i) for i in index], axis=0)\n",
    "        \n",
    "        # gradient update \n",
    "        x_next = x_current - eta/(k + 1.0)*batch_grad\n",
    "\n",
    "        # relative error stoping condition\n",
    "        if np.linalg.norm(x_next - x_current) <= epsilon*np.linalg.norm(x_current):\n",
    "            break\n",
    "\n",
    "        x_current = x_next\n",
    "\n",
    "\n",
    "    print 'SGD finished after ' + str(k) + ' iterations'\n",
    "    \n",
    "    return {'solution': x_current,\n",
    "            'x_history': x_history}"
   ]
  },
  {
   "cell_type": "markdown",
   "metadata": {},
   "source": [
    "# Run optimization algos"
   ]
  },
  {
   "cell_type": "markdown",
   "metadata": {},
   "source": [
    "### GD on LS"
   ]
  },
  {
   "cell_type": "code",
   "execution_count": 383,
   "metadata": {
    "collapsed": false
   },
   "outputs": [
    {
     "name": "stdout",
     "output_type": "stream",
     "text": [
      "GD finished after 820 iterations\n",
      "CPU times: user 42.6 ms, sys: 2.52 ms, total: 45.1 ms\n",
      "Wall time: 43 ms\n"
     ]
    }
   ],
   "source": [
    "%%time\n",
    "eta = 1/model.L_F\n",
    "\n",
    "GD = gradient_descent(model, eta)"
   ]
  },
  {
   "cell_type": "code",
   "execution_count": 384,
   "metadata": {
    "collapsed": true
   },
   "outputs": [],
   "source": [
    "x_history = GD['x_history']"
   ]
  },
  {
   "cell_type": "code",
   "execution_count": 385,
   "metadata": {
    "collapsed": false
   },
   "outputs": [],
   "source": [
    "x_error = [np.linalg.norm(x_solution - x) for x in x_history]\n",
    "fun_history = [model.F(x)  for x in x_history]\n",
    "grad_history = [np.linalg.norm(model.grad_F(x))  for x in x_history]"
   ]
  },
  {
   "cell_type": "code",
   "execution_count": 386,
   "metadata": {
    "collapsed": false
   },
   "outputs": [
    {
     "data": {
      "text/plain": [
       "<matplotlib.text.Text at 0x11866fe90>"
      ]
     },
     "execution_count": 386,
     "metadata": {},
     "output_type": "execute_result"
    },
    {
     "data": {
      "image/png": "[encoded data removed]",
      "text/plain": [
       "<matplotlib.figure.Figure at 0x118703b50>"
      ]
     },
     "metadata": {},
     "output_type": "display_data"
    }
   ],
   "source": [
    "plt.figure(figsize=[15, 5])\n",
    "\n",
    "plt.subplot(1,3,1)\n",
    "plt.plot(fun_history)\n",
    "plt.ylabel('function value')\n",
    "plt.xlabel('iteration')\n",
    "plt.title('gradient descent')\n",
    "\n",
    "plt.subplot(1,3,2)\n",
    "plt.plot(x_error)\n",
    "plt.ylabel('||x - x*||')\n",
    "plt.xlabel('iteration')\n",
    "\n",
    "plt.subplot(1,3,3)\n",
    "plt.plot(grad_history)\n",
    "plt.ylabel('grad F')\n",
    "plt.xlabel('iteration')"
   ]
  },
  {
   "cell_type": "markdown",
   "metadata": {},
   "source": [
    "### accel GD on LS"
   ]
  },
  {
   "cell_type": "code",
   "execution_count": null,
   "metadata": {
    "collapsed": false
   },
   "outputs": [],
   "source": [
    "%%time\n",
    "eta = 1.0/model.L_F\n",
    "\n",
    "AGD = accelerated_gradient_descent(model, eta, epsilon=1e-10)"
   ]
  },
  {
   "cell_type": "code",
   "execution_count": null,
   "metadata": {
    "collapsed": true
   },
   "outputs": [],
   "source": [
    "x_history = AGD['x_history']"
   ]
  },
  {
   "cell_type": "code",
   "execution_count": null,
   "metadata": {
    "collapsed": true
   },
   "outputs": [],
   "source": [
    "x_error = [np.linalg.norm(x_solution - x) for x in x_history]\n",
    "fun_history = [model.F(x)  for x in x_history]\n",
    "grad_history = [np.linalg.norm(model.grad_F(x))  for x in x_history]"
   ]
  },
  {
   "cell_type": "code",
   "execution_count": null,
   "metadata": {
    "collapsed": false
   },
   "outputs": [],
   "source": [
    "plt.figure(figsize=[15, 5])\n",
    "\n",
    "plt.subplot(1,3,1)\n",
    "plt.plot(fun_history)\n",
    "plt.ylabel('function value')\n",
    "plt.xlabel('iteration')\n",
    "plt.title('gradient descent')\n",
    "\n",
    "plt.subplot(1,3,2)\n",
    "plt.plot(x_error)\n",
    "plt.ylabel('||x - x*||')\n",
    "plt.xlabel('iteration')\n",
    "\n",
    "plt.subplot(1,3,3)\n",
    "plt.plot(grad_history)\n",
    "plt.ylabel('grad F')\n",
    "plt.xlabel('iteration')"
   ]
  },
  {
   "cell_type": "markdown",
   "metadata": {},
   "source": [
    "### SGD on LS"
   ]
  },
  {
   "cell_type": "code",
   "execution_count": 56,
   "metadata": {
    "collapsed": false
   },
   "outputs": [
    {
     "name": "stdout",
     "output_type": "stream",
     "text": [
      "SGD finished after 9999 iterations\n",
      "CPU times: user 483 ms, sys: 3.15 ms, total: 486 ms\n",
      "Wall time: 485 ms\n"
     ]
    }
   ],
   "source": [
    "%%time\n",
    "# eta = .01/(2.0*model.mu_F)\n",
    "eta = 1e-2\n",
    "\n",
    "SGD = stochastic_gradient_descent(model, eta,batch_size=1, max_iterations=1e4, epsilon=1e-10)"
   ]
  },
  {
   "cell_type": "code",
   "execution_count": 57,
   "metadata": {
    "collapsed": false
   },
   "outputs": [],
   "source": [
    "x_history = SGD['x_history']\n",
    "\n",
    "x_error = [np.linalg.norm(x_solution - x) for x in x_history]\n",
    "fun_history = [model.F(x)  for x in x_history]\n",
    "grad_history = [np.linalg.norm(model.grad_F(x))  for x in x_history]"
   ]
  },
  {
   "cell_type": "code",
   "execution_count": 58,
   "metadata": {
    "collapsed": false
   },
   "outputs": [
    {
     "data": {
      "text/plain": [
       "<matplotlib.text.Text at 0x113c4d350>"
      ]
     },
     "execution_count": 58,
     "metadata": {},
     "output_type": "execute_result"
    },
    {
     "data": {
      "image/png": "[encoded data removed]",
      "text/plain": [
       "<matplotlib.figure.Figure at 0x113f48a10>"
      ]
     },
     "metadata": {},
     "output_type": "display_data"
    }
   ],
   "source": [
    "plt.figure(figsize=[15, 5])\n",
    "\n",
    "plt.subplot(1,3,1)\n",
    "plt.plot(fun_history)\n",
    "plt.ylabel('function value')\n",
    "plt.xlabel('iteration')\n",
    "plt.title('stochastic gradient descent')\n",
    "\n",
    "plt.subplot(1,3,2)\n",
    "plt.plot(x_error)\n",
    "plt.ylabel('||x - x*||')\n",
    "plt.xlabel('iteration')\n",
    "\n",
    "plt.subplot(1,3,3)\n",
    "plt.plot(grad_history)\n",
    "plt.ylabel('grad F')\n",
    "plt.xlabel('iteration')"
   ]
  },
  {
   "cell_type": "code",
   "execution_count": 59,
   "metadata": {
    "collapsed": false
   },
   "outputs": [
    {
     "name": "stdout",
     "output_type": "stream",
     "text": [
      "0.0403946248322\n",
      "7.65006369448\n",
      "0.0452351914252\n"
     ]
    }
   ],
   "source": [
    "print min(x_error)\n",
    "print max(x_error)\n",
    "print x_error[-1]"
   ]
  },
  {
   "cell_type": "code",
   "execution_count": 54,
   "metadata": {
    "collapsed": false
   },
   "outputs": [
    {
     "data": {
      "text/plain": [
       "0.013192336877883933"
      ]
     },
     "execution_count": 54,
     "metadata": {},
     "output_type": "execute_result"
    }
   ],
   "source": []
  },
  {
   "cell_type": "code",
   "execution_count": null,
   "metadata": {
    "collapsed": true
   },
   "outputs": [],
   "source": []
  }
 ],
 "metadata": {
  "anaconda-cloud": {},
  "kernelspec": {
   "display_name": "Python [default]",
   "language": "python",
   "name": "python2"
  },
  "language_info": {
   "codemirror_mode": {
    "name": "ipython",
    "version": 2
   },
   "file_extension": ".py",
   "mimetype": "text/x-python",
   "name": "python",
   "nbconvert_exporter": "python",
   "pygments_lexer": "ipython2",
   "version": "2.7.12"
  }
 },
 "nbformat": 4,
 "nbformat_minor": 1
}
